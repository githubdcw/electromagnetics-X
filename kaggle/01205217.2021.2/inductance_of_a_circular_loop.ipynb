{
  "nbformat": 4,
  "nbformat_minor": 0,
  "metadata": {
    "colab": {
      "name": "inductance of a circular loop",
      "provenance": [],
      "collapsed_sections": []
    },
    "kernelspec": {
      "name": "python3",
      "display_name": "Python 3"
    },
    "language_info": {
      "name": "python"
    }
  },
  "cells": [
    {
      "cell_type": "markdown",
      "source": [
        "Given a circular loops of radius b m with the current of 1A. The wire has a circular cross section of radius a m. "
      ],
      "metadata": {
        "id": "grhlcIrzEdL7"
      }
    },
    {
      "cell_type": "markdown",
      "source": [
        "Find vector magnetic potential at a point on the surface of the wire.  \n",
        "$\\mathbf A = \\int \\frac {\\mu_o I \\mathbf {dl}}{4 \\pi | \\mathbf {r - r'}|}$"
      ],
      "metadata": {
        "id": "ouhsJdnXGoCT"
      }
    },
    {
      "cell_type": "markdown",
      "source": [
        "Assume that the current flows only at the center of the wire.  \n",
        "Let compute $\\mathbf A$ at at $(b-a,0,0)$ or $\\mathbf r = (b-a)\\mathbf a_x$.  \n",
        "The source is located at $ \\rho = b$ or $\\mathbf r' = b \\mathbf a'_\\rho$  \n",
        "$| \\mathbf {r - r'}| = |(b-a)\\mathbf a_x -  b \\mathbf a'_\\rho|$  \n",
        "$| \\mathbf {r - r'}| = |(b-a)\\mathbf a_x - b (\\cos \\phi'\\mathbf a_x + \\sin \\phi' \\mathbf a_y )|$  \n",
        "Let $c= b-a$  \n",
        "$| \\mathbf {r - r'}| = \\sqrt{(c-b\\cos \\phi')^2 + b^2\\sin \\phi'^2}$  \n",
        "\n",
        "$\\mathbf {dl} = b d \\phi' \\mathbf a'_\\phi$   \n",
        "\n",
        "$\\mathbf A = \\int \\frac {\\mu_o I \\mathbf {dl}}{4 \\pi | \\mathbf {r - r'}|}$  \n",
        "$\\mathbf A = \\int_{\\phi'=0}^{\\phi'=2 \\pi} \\frac {\\mu_o  bd \\phi' \\mathbf a_\\phi'}{4 \\pi \\sqrt{(c-b\\cos \\phi')^2 + b^2\\sin \\phi'^2}}$  \n",
        "$ \\mathbf a'_\\phi = -\\sin \\phi' \\mathbf a_x + \\cos \\phi' \\mathbf a_y$  \n",
        "\n",
        "$\\mathbf A = \\mathbf a_x \\int_{\\phi'=0}^{\\phi'=2 \\pi} \\frac {\\mu_o b d \\phi' (-\\sin \\phi')}{4 \\pi \\sqrt{(c-b\\cos \\phi')^2 + b^2\\sin \\phi'^2}}+\\mathbf a_y \\int_{\\phi'=0}^{\\phi'=2 \\pi} \\frac {\\mu_o b d \\phi' \\cos \\phi'}{4 \\pi \\sqrt{(c-b\\cos \\phi')^2 + b^2\\sin \\phi'^2}}$  \n",
        "\n",
        "Using https://www.integral-calculator.com/  \n",
        "$\\int_{\\phi'=0}^{\\phi'=2 \\pi} \\frac {  d \\phi' (\\sin \\phi')}{4 \\pi \\sqrt{(c-b\\cos \\phi')^2 + b^2\\sin \\phi'^2}} = 0$  \n",
        "\n",
        "\n",
        "```\n",
        "sin x / sqrt((c-b cos x)^2 +(b sin x)^2)\n",
        "```\n",
        "\n",
        "\n",
        "\n",
        "Using https://www.integral-calculator.com/  \n",
        "$\\int_{\\phi'=0}^{\\phi'=2 \\pi} \\frac {  d \\phi' (\\cos \\phi')}{4 \\pi \\sqrt{(c-b\\cos \\phi')^2 + b^2\\sin \\phi'^2}} $ does not have closed form solution.  \n",
        "Let b = 1cm and a = 1mm then c = 9mm. \n",
        "$\\int_{\\phi'=0}^{\\phi'=2 \\pi} \\frac {  d \\phi' (\\cos \\phi')}{4 \\pi \\sqrt{(0.009-0.01\\cos \\phi')^2 + 0.01^2\\sin \\phi'^2}} \\approx 39.2176$\n",
        "\n",
        "\n",
        "```\n",
        "cos x / (4 pi sqrt((0.009-0.01 cos x)^2 +(0.01 sin x)^2))  \n",
        "```\n",
        "\n",
        "\n",
        "$\\mathbf A (x=0.009,y=0,z=0) =  39.2176 b \\mu_o \\mathbf a_y$  \n",
        "$\\mathbf A (x=0.009,y=0,z=0) =  39.2176 \\times 0.01 \\mu_o \\mathbf a_y$  \n",
        "\n",
        "$\\mathbf A (\\rho=0.009) =  0.392176 \\mu_o \\mathbf a_\\phi$   \n",
        "\n",
        "Find the magnetic flux produced by the 1A current on the 2nd loop passing through the 1st loop.  \n",
        "\n",
        "$\\Phi = \\oint \\mathbf A \\cdot \\mathbf {dl}$  \n",
        "$\\Phi = \\oint 0.392176 \\mu_o \\mathbf a_\\phi \\cdot 0.009 \\times d \\phi \\mathbf a_\\phi $  \n",
        "$\\Phi = \\int_{\\phi'=0}^{\\phi'=2 \\pi} 0.392176 \\mu_o \\mathbf a_\\phi \\cdot 0.009 \\times d \\phi \\mathbf a_\\phi $  \n",
        "$\\Phi = 0.392176 \\times 0.009 \\mu_o \\int_{\\phi'=0}^{\\phi'=2 \\pi}  d \\phi $  \n",
        "$\\Phi = 0.392176 \\times 0.009 \\times 2 \\pi \\mu_o $  \n",
        "\n"
      ],
      "metadata": {
        "id": "WGkbrvJvIJU5"
      }
    },
    {
      "cell_type": "code",
      "execution_count": null,
      "metadata": {
        "id": "tNilQU0fEcQb",
        "colab": {
          "base_uri": "https://localhost:8080/"
        },
        "outputId": "d1c77ab3-26e7-44e2-c4ab-183ad5ff8ae1"
      },
      "outputs": [
        {
          "output_type": "stream",
          "name": "stdout",
          "text": [
            "1.2566370614359173e-06\n",
            "3.141592653589793\n",
            "Self inductance =  27.868478224331664  nH\n"
          ]
        }
      ],
      "source": [
        "import scipy.constants as const\n",
        "import numpy as np\n",
        "print(const.mu_0)\n",
        "print(const.pi)\n",
        "print('Self inductance = ', 0.392176*0.009*2*const.pi*const.mu_0* 1e9,' nH')"
      ]
    },
    {
      "cell_type": "markdown",
      "source": [
        "Complicated derivation:  \n",
        "https://nvlpubs.nist.gov/nistpubs/jres/1/jresv1n4p487_A1b.pdf  \n",
        "Engineer's formualtion:  \n",
        "https://www.allaboutcircuits.com/tools/wire-loop-inductance-calculator/"
      ],
      "metadata": {
        "id": "sFb9vDVMYQZI"
      }
    },
    {
      "cell_type": "code",
      "source": [
        "b = 0.01\n",
        "a = 0.001\n",
        "print(const.mu_0*b*(np.log(8*b/a)-2)*1e9)"
      ],
      "metadata": {
        "colab": {
          "base_uri": "https://localhost:8080/"
        },
        "id": "eojU4AJzSdiR",
        "outputId": "fb8b9a02-a200-422a-c955-9256cc86a0f6"
      },
      "execution_count": null,
      "outputs": [
        {
          "output_type": "stream",
          "name": "stdout",
          "text": [
            "29.933429504586734\n"
          ]
        }
      ]
    }
  ]
}