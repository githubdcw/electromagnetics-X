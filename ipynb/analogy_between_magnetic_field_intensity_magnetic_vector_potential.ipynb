{
  "nbformat": 4,
  "nbformat_minor": 0,
  "metadata": {
    "colab": {
      "provenance": [],
      "authorship_tag": "ABX9TyMQpzsI0NM8/jvAm8MKXCTI"
    },
    "kernelspec": {
      "name": "python3",
      "display_name": "Python 3"
    },
    "language_info": {
      "name": "python"
    }
  },
  "cells": [
    {
      "cell_type": "code",
      "execution_count": null,
      "metadata": {
        "id": "vbCTXJfAciC0"
      },
      "outputs": [],
      "source": []
    },
    {
      "cell_type": "markdown",
      "source": [
        "Here’s a neat analogy between the **magnetic field intensity** and the **magnetic vector potential**\n",
        "\n",
        "---\n",
        "\n",
        "### 🔁 Analogy Between $\\nabla \\times \\mathbf{H} = \\mathbf{J}$ and $\\nabla \\times \\mathbf{A} = \\mathbf{B}$\n",
        "\n",
        "#### **Ampère's Law (Magnetostatics)**\n",
        "\n",
        "- Differential form:\n",
        "  $$\n",
        "  \\nabla \\times \\mathbf{H} = \\mathbf{J}\n",
        "  $$\n",
        "- Integral form:\n",
        "  $$\n",
        "  I = \\oint \\mathbf{H} \\cdot d\\mathbf{l}\n",
        "  $$\n",
        "\n",
        "Here, $I$ is the **current enclosed** by the path, and $\\mathbf{H}$ is the **magnetic field intensity**.\n",
        "\n",
        "---\n",
        "\n",
        "#### **Definition of Magnetic Flux Density from Vector Potential**\n",
        "\n",
        "- Differential form:\n",
        "  $$\n",
        "  \\nabla \\times \\mathbf{A} = \\mathbf{B}\n",
        "  $$\n",
        "- Integral form (analogous to Ampère’s Law):\n",
        "  $$\n",
        "  \\Phi = \\oint \\mathbf{A} \\cdot d\\mathbf{l}\n",
        "  $$\n",
        "\n",
        "Here, $\\Phi$ is the **magnetic flux** through the surface bounded by the loop, and $\\mathbf{A}$ is the **magnetic vector potential**.\n",
        "\n",
        "---\n",
        "\n",
        "### ✅ Summary of the Analogy\n",
        "\n",
        "| Quantity | Field Equation | Line Integral |\n",
        "|----------|----------------|---------------|\n",
        "| **Current** $I$ | $\\nabla \\times \\mathbf{H} = \\mathbf{J}$ | $I = \\oint \\mathbf{H} \\cdot d\\mathbf{l}$ |\n",
        "| **Flux** $\\Phi$ | $\\nabla \\times \\mathbf{A} = \\mathbf{B}$ | $\\Phi = \\oint \\mathbf{A} \\cdot d\\mathbf{l}$ |\n",
        "\n",
        "---\n",
        "\n",
        "This highlights the parallel roles of $\\mathbf{H}$ and $\\mathbf{A}$ in magnetostatics: one relates to current, the other to flux, both via a curl and a line integral."
      ],
      "metadata": {
        "id": "fcJghXoJcjMm"
      }
    }
  ]
}