{
 "cells": [
  {
   "cell_type": "markdown",
   "metadata": {
    "papermill": {
     "duration": 0.007082,
     "end_time": "2021-10-21T17:23:28.977756",
     "exception": false,
     "start_time": "2021-10-21T17:23:28.970674",
     "status": "completed"
    },
    "tags": []
   },
   "source": [
    "# This notebook is for a Electromagnetics Class at Kasetsart University.  \n",
    "It shows that the electrical forces between electrons or protons are much larger than the gravitational forces between them."
   ]
  },
  {
   "cell_type": "markdown",
   "metadata": {
    "papermill": {
     "duration": 0.005943,
     "end_time": "2021-10-21T17:23:28.990216",
     "exception": false,
     "start_time": "2021-10-21T17:23:28.984273",
     "status": "completed"
    },
    "tags": []
   },
   "source": [
    "Coulomb's Law \n",
    "คือกฎการหาแรง $\\mathbf{F_{12}}$ ระหว่างประจุดแบบจุดสองตัว $Q_1$ กับ $Q_2$ โดยตัวห้อย 12 คือแรงของตัวที่ 1 ไปกระทำตัวที่ 2 \n",
    "\n",
    "$$\n",
    "\\mathbf{F_{12}} = k Q_1 Q_2 \\frac {\\mathbf{R}_{12}}{\\lvert \\mathbf{R}_{12} \\rvert^3}\\\\\n",
    "k = \\frac {1}{4 \\pi \\varepsilon_o}\\\\\n",
    "\\mathbf{R}_{12} = \\mathbf{r}_2 - \\mathbf{r}_1\n",
    "$$\n",
    "\n",
    "อันนี้จะคล้ายๆกับ Newton’s Law of Universal Gravitation (แรงดึงดูด)\n",
    "\n",
    "$$\n",
    "\\mathbf{F_{12}} = G m_1 m_2 \\frac {\\mathbf{R}_{21}}{\\lvert \\mathbf{R}_{21} \\rvert^3}\\\\\n",
    "G =6.6743e^{-11} \\; [m^3 kg^{-1} s^{-2}]\\\\\n",
    "\\mathbf{R}_{21} = \\mathbf{r}_1 - \\mathbf{r}_2\n",
    "$$\n"
   ]
  },
  {
   "cell_type": "markdown",
   "metadata": {
    "papermill": {
     "duration": 0.005987,
     "end_time": "2021-10-21T17:23:29.004404",
     "exception": false,
     "start_time": "2021-10-21T17:23:28.998417",
     "status": "completed"
    },
    "tags": []
   },
   "source": [
    "ค่า $\\varepsilon_o$ เอามาได้จาก scipy.constants.epsilon_0  \n",
    "ค่าประจุของ electron 1 ตัว เอามาได้จาก scipy.constants.elementary_charge  \n",
    "https://docs.scipy.org/doc/scipy-1.0.0/reference/constants.html"
   ]
  },
  {
   "cell_type": "code",
   "execution_count": 1,
   "metadata": {
    "execution": {
     "iopub.execute_input": "2021-10-21T17:23:29.020440Z",
     "iopub.status.busy": "2021-10-21T17:23:29.019790Z",
     "iopub.status.idle": "2021-10-21T17:23:29.093874Z",
     "shell.execute_reply": "2021-10-21T17:23:29.092814Z"
    },
    "papermill": {
     "duration": 0.08328,
     "end_time": "2021-10-21T17:23:29.094031",
     "exception": false,
     "start_time": "2021-10-21T17:23:29.010751",
     "status": "completed"
    },
    "tags": []
   },
   "outputs": [
    {
     "name": "stdout",
     "output_type": "stream",
     "text": [
      "8.854187817620389e-12\n",
      "1.602176634e-19\n"
     ]
    }
   ],
   "source": [
    "import numpy as np \n",
    "import scipy.constants\n",
    "eps0 = scipy.constants.epsilon_0\n",
    "pi = scipy.constants.pi\n",
    "e = scipy.constants.elementary_charge\n",
    "G = scipy.constants.gravitational_constant\n",
    "m_e = scipy.constants.m_e\n",
    "m_p = scipy.constants.m_p\n",
    "k=1/(4*pi*eps0)\n",
    "print(eps0)\n",
    "print(e)"
   ]
  },
  {
   "cell_type": "code",
   "execution_count": 2,
   "metadata": {
    "execution": {
     "iopub.execute_input": "2021-10-21T17:23:29.116847Z",
     "iopub.status.busy": "2021-10-21T17:23:29.116157Z",
     "iopub.status.idle": "2021-10-21T17:23:29.120895Z",
     "shell.execute_reply": "2021-10-21T17:23:29.120384Z"
    },
    "papermill": {
     "duration": 0.019285,
     "end_time": "2021-10-21T17:23:29.121012",
     "exception": false,
     "start_time": "2021-10-21T17:23:29.101727",
     "status": "completed"
    },
    "tags": []
   },
   "outputs": [
    {
     "name": "stdout",
     "output_type": "stream",
     "text": [
      "แรงไฟฟ้าระหว่าง eletron หรือ proton 2 ตัว = 2.3070775510857187e-28\n",
      "แรงดึงดูดมวลระหว่าง eletron 2 ตัว = 5.538392301262072e-71\n",
      "แรงดึงดูดมวลระหว่าง proton 2 ตัว = 1.8672449500016587e-64\n",
      "แรงดึงดูดมวลระหว่าง eletron กับ proton = 1.0169333830521872e-67\n",
      "แรงไฟฟ้ามากกวาแรงดึงดูดมวลอยู่ 1e30 เท่า\n",
      "เราจึงไม่คิดผลจากมวลของประจุ\n"
     ]
    }
   ],
   "source": [
    "print('แรงไฟฟ้าระหว่าง eletron หรือ proton 2 ตัว =',k*(e**2))\n",
    "print('แรงดึงดูดมวลระหว่าง eletron 2 ตัว =',G*(m_e**2))\n",
    "print('แรงดึงดูดมวลระหว่าง proton 2 ตัว =',G*(m_p**2))\n",
    "print('แรงดึงดูดมวลระหว่าง eletron กับ proton =',G*(m_e*m_p))\n",
    "print('แรงไฟฟ้ามากกวาแรงดึงดูดมวลอยู่ 1e30 เท่า')\n",
    "print('เราจึงไม่คิดผลจากมวลของประจุ')\n",
    "\n",
    "    "
   ]
  },
  {
   "cell_type": "markdown",
   "metadata": {
    "papermill": {
     "duration": 0.0071,
     "end_time": "2021-10-21T17:23:29.135434",
     "exception": false,
     "start_time": "2021-10-21T17:23:29.128334",
     "status": "completed"
    },
    "tags": []
   },
   "source": [
    "# Example 1  \n",
    "มี Electron 1 ตัว เรียกว่า Q1 ที่ตำแหน่งที่ 1 $(x=0,y=0,z=0)$ กับ Proton 1 ตัว เรียกว่า Q2 ที่ตำแหน่งที่ 2 $(x=1 nm,y= 1nm,z=0)$"
   ]
  },
  {
   "cell_type": "code",
   "execution_count": 3,
   "metadata": {
    "_cell_guid": "79c7e3d0-c299-4dcb-8224-4455121ee9b0",
    "_uuid": "d629ff2d2480ee46fbb7e2d37f6b5fab8052498a",
    "execution": {
     "iopub.execute_input": "2021-10-21T17:23:29.153418Z",
     "iopub.status.busy": "2021-10-21T17:23:29.152751Z",
     "iopub.status.idle": "2021-10-21T17:23:29.162065Z",
     "shell.execute_reply": "2021-10-21T17:23:29.162822Z"
    },
    "papermill": {
     "duration": 0.020197,
     "end_time": "2021-10-21T17:23:29.163022",
     "exception": false,
     "start_time": "2021-10-21T17:23:29.142825",
     "status": "completed"
    },
    "tags": []
   },
   "outputs": [
    {
     "name": "stdout",
     "output_type": "stream",
     "text": [
      "แรงที่ electron กระทำต่อ proton [Fx,Fy,Fz]\n",
      "[-8.15675091e-11 -8.15675091e-11 -0.00000000e+00]\n"
     ]
    }
   ],
   "source": [
    "p1=np.array([0,0,0])\n",
    "p2=np.array([1e-9,1e-9,0])\n",
    "R = p2-p1\n",
    "\n",
    "absR = sum(R**2)**0.5\n",
    "F = (k*(-e)*(e)/(absR**3))*R\n",
    "print('แรงที่ electron กระทำต่อ proton [Fx,Fy,Fz]')\n",
    "print(F)\n"
   ]
  },
  {
   "cell_type": "markdown",
   "metadata": {
    "papermill": {
     "duration": 0.007619,
     "end_time": "2021-10-21T17:23:29.178790",
     "exception": false,
     "start_time": "2021-10-21T17:23:29.171171",
     "status": "completed"
    },
    "tags": []
   },
   "source": [
    "# Example 2\n",
    "มี Electron 1 ตัว เรียกว่า Q1 ที่ตำแหน่งที่ 1 $(\\rho=0,\\phi=0,z=0)$ กับ Proton 1 ตัว เรียกว่า Q2 ที่ตำแหน่งที่ 2 $(\\rho=1 nm,\\phi= \\frac {\\pi}{4},z=0)$  \n",
    "ต้องเปลี่ยนชื่อตำแหน่งให้เป็น Cartesian Coordinates $(x ,y,z)$ "
   ]
  },
  {
   "cell_type": "code",
   "execution_count": 4,
   "metadata": {
    "execution": {
     "iopub.execute_input": "2021-10-21T17:23:29.198147Z",
     "iopub.status.busy": "2021-10-21T17:23:29.197476Z",
     "iopub.status.idle": "2021-10-21T17:23:29.207901Z",
     "shell.execute_reply": "2021-10-21T17:23:29.207367Z"
    },
    "papermill": {
     "duration": 0.021336,
     "end_time": "2021-10-21T17:23:29.208022",
     "exception": false,
     "start_time": "2021-10-21T17:23:29.186686",
     "status": "completed"
    },
    "tags": []
   },
   "outputs": [
    {
     "name": "stdout",
     "output_type": "stream",
     "text": [
      "แรงที่ electron กระทำต่อ proton [Fx,Fy,Fz]\n",
      "[-1.63135018e-10 -1.63135018e-10 -0.00000000e+00]\n"
     ]
    }
   ],
   "source": [
    "p1=np.array([0,0,0])\n",
    "# 0 0 0 => 0 0 0\n",
    "p2=np.array([1e-9,pi/4,0])\n",
    "p2=np.array([p2[0]*np.cos(p2[1]),p2[0]*np.sin(p2[1]),0])\n",
    "\n",
    "R = p2-p1\n",
    "\n",
    "absR = sum(R**2)**0.5\n",
    "F = (k*(-e)*(e)/(absR**3))*R\n",
    "print('แรงที่ electron กระทำต่อ proton [Fx,Fy,Fz]')\n",
    "print(F)\n"
   ]
  }
 ],
 "metadata": {
  "kernelspec": {
   "display_name": "Python 3",
   "language": "python",
   "name": "python3"
  },
  "language_info": {
   "codemirror_mode": {
    "name": "ipython",
    "version": 3
   },
   "file_extension": ".py",
   "mimetype": "text/x-python",
   "name": "python",
   "nbconvert_exporter": "python",
   "pygments_lexer": "ipython3",
   "version": "3.7.0"
  },
  "papermill": {
   "duration": 4.982577,
   "end_time": "2021-10-21T17:23:29.323706",
   "environment_variables": {},
   "exception": null,
   "input_path": "__notebook__.ipynb",
   "output_path": "__notebook__.ipynb",
   "parameters": {},
   "start_time": "2021-10-21T17:23:24.341129",
   "version": "2.1.0"
  }
 },
 "nbformat": 4,
 "nbformat_minor": 4
}
