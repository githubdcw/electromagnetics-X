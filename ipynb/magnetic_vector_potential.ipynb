{
  "nbformat": 4,
  "nbformat_minor": 0,
  "metadata": {
    "colab": {
      "provenance": [],
      "authorship_tag": "ABX9TyOCl6jaP+ylDu5lLHi+36l7",
      "include_colab_link": true
    },
    "kernelspec": {
      "name": "python3",
      "display_name": "Python 3"
    },
    "language_info": {
      "name": "python"
    }
  },
  "cells": [
    {
      "cell_type": "markdown",
      "metadata": {
        "id": "view-in-github",
        "colab_type": "text"
      },
      "source": [
        "<a href=\"https://colab.research.google.com/github/githubdcw/electromagnetics-X/blob/main/ipynb/magnetic_vector_potential.ipynb\" target=\"_parent\"><img src=\"https://colab.research.google.com/assets/colab-badge.svg\" alt=\"Open In Colab\"/></a>"
      ]
    },
    {
      "cell_type": "markdown",
      "source": [
        "Given identical two circular loops of radius 1m. The 1st loop is located on the xy-plane, centered at the origin. The 2nd loop is located at z = 1m plane, the z-axis passing through the center of the loop. Let the current on the 2nd loop is 1A."
      ],
      "metadata": {
        "id": "grhlcIrzEdL7"
      }
    },
    {
      "cell_type": "markdown",
      "source": [
        "Find vector magnetic potential at a point on the 1st loop.  \n",
        "$\\mathbf A = \\int \\frac {\\mu_o I \\mathbf {dl}}{4 \\pi | \\mathbf {r - r'}|}$"
      ],
      "metadata": {
        "id": "ouhsJdnXGoCT"
      }
    },
    {
      "cell_type": "markdown",
      "source": [
        "Let compute $\\mathbf A$ at at (1,0,0) or $\\mathbf r = \\mathbf a_x$.  \n",
        "The source is located at $ \\rho = 1$ and $z=1$ or $\\mathbf r' = \\mathbf a'_\\rho + \\mathbf a_z$  \n",
        "$| \\mathbf {r - r'}| = |\\mathbf a_x -  (\\mathbf a'_\\rho + \\mathbf a_z)|$  \n",
        "$| \\mathbf {r - r'}| = |\\mathbf a_x -  (\\cos \\phi' \\mathbf a_x + \\sin \\phi' \\mathbf a_y + \\mathbf a_z)|$  \n",
        "$| \\mathbf {r - r'}| = \\sqrt{(1-\\cos \\phi')^2 + \\sin \\phi'^2 +1}$  \n",
        "$\\mathbf A = \\int \\frac {\\mu_o I \\mathbf {dl}}{4 \\pi | \\mathbf {r - r'}|}$  \n",
        "$\\mathbf A = \\int_{\\phi'=0}^{\\phi'=2 \\pi} \\frac {\\mu_o  d \\phi' \\mathbf a_\\phi'}{4 \\pi \\sqrt{(1-\\cos \\phi')^2 + \\sin \\phi'^2 +1}}$  \n",
        "$ \\mathbf a'_\\phi = -\\sin \\phi' \\mathbf a_x + \\cos \\phi' \\mathbf a_y$  \n",
        "\n",
        "$\\mathbf A = \\mathbf a_x \\int_{\\phi'=0}^{\\phi'=2 \\pi} \\frac {\\mu_o  d \\phi' (-\\sin \\phi')}{4 \\pi \\sqrt{(1-\\cos \\phi')^2 + \\sin \\phi'^2 +1}}+\\mathbf a_y \\int_{\\phi'=0}^{\\phi'=2 \\pi} \\frac {\\mu_o  d \\phi' \\cos \\phi'}{4 \\pi \\sqrt{(1-\\cos \\phi')^2 + \\sin \\phi'^2 +1}}$  \n",
        "\n",
        "Using https://www.integral-calculator.com/  \n",
        "$\\int_{\\phi'=0}^{\\phi'=2 \\pi} \\frac {  d \\phi' (-\\sin \\phi')}{4 \\pi \\sqrt{(1-\\cos \\phi')^2 + \\sin \\phi'^2 +1}} = 0$  \n",
        "\n",
        "Using https://www.integral-calculator.com/  \n",
        "$\\int_{\\phi'=0}^{\\phi'=2 \\pi} \\frac {  d \\phi' (\\cos \\phi')}{4 \\pi \\sqrt{(1-\\cos \\phi')^2 + \\sin \\phi'^2 +1}} = 0.06257576836429392$ by using numerical integation.  \n",
        "\n",
        "$\\mathbf A (x=1,y=0,z=0) =  0.0626 \\mu_o \\mathbf a_y$  \n",
        "\n",
        "$\\mathbf A (\\rho=1) =  0.0626 \\mu_o \\mathbf a_\\phi$   \n",
        "\n",
        "Find the magnetic flux produced by the 1A current on the 2nd loop passing through the 1st loop.  \n",
        "\n",
        "$\\Phi = \\oint \\mathbf A \\cdot \\mathbf {dl}$  \n",
        "$\\Phi = \\oint 0.0626 \\mu_o \\mathbf a_\\phi \\cdot 1 \\times d \\phi \\mathbf a_\\phi $  \n",
        "$\\Phi = \\int_{\\phi'=0}^{\\phi'=2 \\pi} 0.0626 \\mu_o \\mathbf a_\\phi \\cdot 1 \\times d \\phi \\mathbf a_\\phi $  \n",
        "$\\Phi = 0.0626 \\mu_o \\int_{\\phi'=0}^{\\phi'=2 \\pi}  d \\phi $  \n",
        "$\\Phi = 0.0626 \\times 2 \\pi \\mu_o $  \n",
        "\n"
      ],
      "metadata": {
        "id": "WGkbrvJvIJU5"
      }
    },
    {
      "cell_type": "code",
      "execution_count": null,
      "metadata": {
        "id": "tNilQU0fEcQb",
        "colab": {
          "base_uri": "https://localhost:8080/"
        },
        "outputId": "63c26ff7-260a-4cc4-c3a4-2d517e319757"
      },
      "outputs": [
        {
          "output_type": "stream",
          "name": "stdout",
          "text": [
            "1.2566370614359173e-06\n",
            "3.141592653589793\n",
            "Mutual inductance is  494.2697884065551  nH\n"
          ]
        }
      ],
      "source": [
        "import scipy.constants as const\n",
        "print(const.mu_0)\n",
        "print(const.pi)\n",
        "print('Mutual inductance is ', 0.0626*2*const.pi*const.mu_0*1e9, ' nH')"
      ]
    },
    {
      "cell_type": "markdown",
      "source": [
        "$\\int_{\\phi'=0}^{\\phi'=2 \\pi} \\frac {  d \\phi' (\\cos \\phi')}{4 \\pi \\sqrt{(1-\\cos \\phi')^2 + \\sin \\phi'^2 +1} }  \\approx \\sum_{i=1}^{i=N} \\frac {  \\Delta \\phi (\\cos \\phi_i)}{4 \\pi \\sqrt{(1-\\cos \\phi_i)^2 + \\sin \\phi_i^2 +1} }$  \n",
        "$\\Delta \\phi = \\frac {2 \\pi}{N}$  \n",
        "$\\phi_i = \\Delta \\phi \\left( i - \\frac {1}{2} \\right)$  \n",
        "For example, $N=6$  \n",
        "$\\Delta \\phi = \\frac {\\pi}{3}$   \n",
        "$\\phi_1 = \\frac {\\pi}{6}$    \n",
        "$\\phi_2 = \\frac {3\\pi}{6} = \\frac {\\pi}{2}$    \n",
        "$\\phi_3 = \\frac {5\\pi}{6}$    \n",
        "$\\phi_4 = \\frac {7\\pi}{6}$    \n",
        "$\\phi_5 = \\frac {9\\pi}{6}= \\frac {3\\pi}{2}$    \n",
        "$\\phi_6 = \\frac {11\\pi}{6}$    \n"
      ],
      "metadata": {
        "id": "pmrsl3QnJm0r"
      }
    },
    {
      "cell_type": "code",
      "source": [
        "import numpy as np\n",
        "N = 6\n",
        "delta = 2*np.pi/N\n",
        "phi_i = delta/2 + delta*np.array(range(N))\n",
        "# print(delta)\n",
        "# print(phi_i)\n",
        "cos_phi_i = np.cos(phi_i)\n",
        "fourpisqrt = 4*const.pi*((1-np.cos(phi_i))**2+np.sin(phi_i)**2+1)**0.5\n",
        "ans = delta*(cos_phi_i/fourpisqrt).sum()\n",
        "print(ans)\n",
        "print('error = ',100*(ans-0.06257576836429392)/ans,' %')"
      ],
      "metadata": {
        "colab": {
          "base_uri": "https://localhost:8080/"
        },
        "id": "YAZ1aQpPIHNC",
        "outputId": "7ca8b406-230a-494e-8b03-40ae19b6cea0"
      },
      "execution_count": null,
      "outputs": [
        {
          "output_type": "stream",
          "name": "stdout",
          "text": [
            "0.06183031535856044\n",
            "error =  -1.2056432211456736  %\n"
          ]
        }
      ]
    },
    {
      "cell_type": "code",
      "source": [
        "import numpy as np\n",
        "N = 360\n",
        "delta = 2*np.pi/N\n",
        "phi_i = delta/2 + delta*np.array(range(N))\n",
        "# print(delta)\n",
        "# print(phi_i)\n",
        "cos_phi_i = np.cos(phi_i)\n",
        "fourpisqrt = 4*const.pi*((1-np.cos(phi_i))**2+np.sin(phi_i)**2+1)**0.5\n",
        "ans = delta*(cos_phi_i/fourpisqrt).sum()\n",
        "print(ans)\n",
        "print('error = ',100*(ans-0.06257576836429392)/ans,' %')"
      ],
      "metadata": {
        "colab": {
          "base_uri": "https://localhost:8080/"
        },
        "id": "fZ24hPgYNQCR",
        "outputId": "c8199aee-074e-4e77-d5a0-c0468b4489a6"
      },
      "execution_count": null,
      "outputs": [
        {
          "output_type": "stream",
          "name": "stdout",
          "text": [
            "0.06257576836429393\n",
            "error =  2.217757475549145e-14  %\n"
          ]
        }
      ]
    }
  ]
}