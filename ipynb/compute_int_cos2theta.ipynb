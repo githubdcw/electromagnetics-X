{
  "nbformat": 4,
  "nbformat_minor": 0,
  "metadata": {
    "colab": {
      "provenance": [],
      "authorship_tag": "ABX9TyP2P8aAaNveiGSHRzpBQ68a",
      "include_colab_link": true
    },
    "kernelspec": {
      "name": "python3",
      "display_name": "Python 3"
    },
    "language_info": {
      "name": "python"
    }
  },
  "cells": [
    {
      "cell_type": "markdown",
      "metadata": {
        "id": "view-in-github",
        "colab_type": "text"
      },
      "source": [
        "<a href=\"https://colab.research.google.com/github/githubdcw/electromagnetics-X/blob/main/ipynb/compute_int_cos2theta.ipynb\" target=\"_parent\"><img src=\"https://colab.research.google.com/assets/colab-badge.svg\" alt=\"Open In Colab\"/></a>"
      ]
    },
    {
      "cell_type": "markdown",
      "source": [
        "Compute $\\int_0^\\pi \\cos^2 \\theta d\\theta = \\frac {\\pi}{2} \\approx \\sum_{i=1}^{10} \\cos^2 \\theta_i \\Delta \\theta$"
      ],
      "metadata": {
        "id": "J8VsThWphoIA"
      }
    },
    {
      "cell_type": "code",
      "execution_count": null,
      "metadata": {
        "id": "HON41op6HbEj"
      },
      "outputs": [],
      "source": [
        "import numpy as np"
      ]
    },
    {
      "cell_type": "code",
      "source": [
        "delta = np.pi/10\n",
        "thetai = delta/2 + delta*np.array(range(10))\n",
        "print(delta)\n",
        "print(thetai)"
      ],
      "metadata": {
        "colab": {
          "base_uri": "https://localhost:8080/"
        },
        "id": "__EAVHdhZ9TJ",
        "outputId": "cbef901d-abbf-4323-ea84-d3f622e453a5"
      },
      "execution_count": null,
      "outputs": [
        {
          "output_type": "stream",
          "name": "stdout",
          "text": [
            "0.3141592653589793\n",
            "[0.15707963 0.4712389  0.78539816 1.09955743 1.41371669 1.72787596\n",
            " 2.04203522 2.35619449 2.67035376 2.98451302]\n"
          ]
        }
      ]
    },
    {
      "cell_type": "code",
      "source": [
        "cos2thetai = np.cos(thetai)**2\n",
        "ans = delta*cos2thetai.sum()\n",
        "print(ans)"
      ],
      "metadata": {
        "colab": {
          "base_uri": "https://localhost:8080/"
        },
        "id": "0FPj7f0LHguL",
        "outputId": "8ccb53ed-2300-4f17-9cc0-bf3a528256a9"
      },
      "execution_count": null,
      "outputs": [
        {
          "output_type": "stream",
          "name": "stdout",
          "text": [
            "1.5707963267948966\n"
          ]
        }
      ]
    }
  ]
}