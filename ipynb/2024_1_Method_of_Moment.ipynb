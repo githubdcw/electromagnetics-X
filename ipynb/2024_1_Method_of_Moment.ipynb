{
  "cells": [
    {
      "cell_type": "markdown",
      "id": "c8881bcf",
      "metadata": {
        "id": "c8881bcf",
        "papermill": {
          "duration": 0.023999,
          "end_time": "2022-03-20T11:24:06.955827",
          "exception": false,
          "start_time": "2022-03-20T11:24:06.931828",
          "status": "completed"
        },
        "tags": []
      },
      "source": [
        "# 2024-1-Method-of-Moment\n",
        "There is a 2mX2m-square conducting plate on $xy$-plane.  \n",
        "Apply 10 Volts to the conducting plate.\n",
        "Find surface charge density on the conducting plate by dividing the plate into $N \\times N$ small squares.\n",
        "Plot the surface charge density."
      ]
    },
    {
      "cell_type": "markdown",
      "id": "2477dbb1",
      "metadata": {
        "id": "2477dbb1",
        "papermill": {
          "duration": 0.022292,
          "end_time": "2022-03-20T11:24:07.002769",
          "exception": false,
          "start_time": "2022-03-20T11:24:06.980477",
          "status": "completed"
        },
        "tags": []
      },
      "source": [
        "Divide the problem into NXN small squares.  \n",
        "Assume that the charge on each square is compressed and located at the middle of each square as a point charge, $Q_i$.  \n",
        "The surface charge density of each square, $\\rho_{si}$ can be obtained by dividing the computed charge by the area of the square or $Q_i =\\rho_{si} \\times \\Delta \\times \\Delta$ where $\\Delta$ is the side of each small square.    \n",
        "\n",
        "We know that the electric potential is constant (which is 10V) on the conducting plate.  \n",
        "We can uniformly select $N$ points where $N$ is the number of the small squares on the plate for constructing equations to solve for the charges. These $N$ points are called testing points. The charges must produce a constant electric potential (which is 10V) on the plate.  \n",
        "  \n",
        "Ideally, the testing points should be at the same location as the charge.  \n",
        "    \n",
        "If we use a point charge approximation, this would give an infinite potential since we assume that the charge is a point charge and the distance is zero for that charge. the exact value of the potential produced by a $\\Delta \\times \\Delta$ surface charge at the middle point of the surface charge must be solved for."
      ]
    },
    {
      "cell_type": "markdown",
      "id": "b88c79b1",
      "metadata": {
        "papermill": {
          "duration": 0.023049,
          "end_time": "2022-03-20T11:24:07.048714",
          "exception": false,
          "start_time": "2022-03-20T11:24:07.025665",
          "status": "completed"
        },
        "tags": [],
        "id": "b88c79b1"
      },
      "source": [
        "![problem](https://github.com/githubdcw/electromagnetics-X/raw/main/kaggle/01205217.2021.2/iup-mid-assign2-1.png)"
      ]
    },
    {
      "cell_type": "markdown",
      "source": [
        "<img src=\"https://github.com/githubdcw/electromagnetics-X/raw/main/kaggle/01205217.2021.2/iup-mid-assign2-2.png\"  width=\"50%\" height=\"50%\">"
      ],
      "metadata": {
        "id": "7txeW6j6t_on"
      },
      "id": "7txeW6j6t_on"
    },
    {
      "cell_type": "markdown",
      "source": [
        "## The solution   \n",
        "We find the potential at the middle point of a $\\Delta \\times \\Delta$ square surface charge of 1 $C/m^2$ as [using https://www.integral-calculator.com/]  \n",
        "$V = k \\int_{y'=-\\frac{\\Delta}{2}}^{y'=\\frac{\\Delta}{2}}\\int_{x'=-\\frac{\\Delta}{2}}^{x'=\\frac{\\Delta}{2}} \\frac {dx' dy'}{\\sqrt{x'^2+y'^2}} = k (4 \\text {asinh} (1)) \\Delta$"
      ],
      "metadata": {
        "id": "RKrEpXwNtrKo"
      },
      "id": "RKrEpXwNtrKo"
    },
    {
      "cell_type": "markdown",
      "source": [
        "# Change N for finer mesh.\n",
        "The original code uses N = 4 for simplicity.\n",
        "N should be a large value to get an accurate result.  \n",
        "You should try with different values of N."
      ],
      "metadata": {
        "id": "lwRidJsWvZxn"
      },
      "id": "lwRidJsWvZxn"
    },
    {
      "cell_type": "code",
      "execution_count": null,
      "id": "4ff051f9",
      "metadata": {
        "execution": {
          "iopub.execute_input": "2022-03-20T11:24:07.103204Z",
          "iopub.status.busy": "2022-03-20T11:24:07.102576Z",
          "iopub.status.idle": "2022-03-20T11:24:07.147640Z",
          "shell.execute_reply": "2022-03-20T11:24:07.146920Z",
          "shell.execute_reply.started": "2022-03-20T11:13:48.377897Z"
        },
        "id": "4ff051f9",
        "papermill": {
          "duration": 0.076692,
          "end_time": "2022-03-20T11:24:07.147821",
          "exception": false,
          "start_time": "2022-03-20T11:24:07.071129",
          "status": "completed"
        },
        "tags": []
      },
      "outputs": [],
      "source": [
        "import numpy as np\n",
        "import scipy.constants as const\n",
        "k = 1/(4*const.pi*const.epsilon_0)\n",
        "N= 4"
      ]
    },
    {
      "cell_type": "markdown",
      "source": [
        "`def potential` gives the exact value of the potential produced by a $\\Delta \\times \\Delta$ surface charge at the middle point of the surface charge and use the point charge approximation for other locations.\n"
      ],
      "metadata": {
        "id": "7thJzGptvkyX"
      },
      "id": "7thJzGptvkyX"
    },
    {
      "cell_type": "code",
      "execution_count": null,
      "id": "6a7eee6c",
      "metadata": {
        "execution": {
          "iopub.execute_input": "2022-03-20T11:24:07.243822Z",
          "iopub.status.busy": "2022-03-20T11:24:07.242788Z",
          "iopub.status.idle": "2022-03-20T11:24:07.248933Z",
          "shell.execute_reply": "2022-03-20T11:24:07.249415Z",
          "shell.execute_reply.started": "2022-03-20T11:13:48.384597Z"
        },
        "papermill": {
          "duration": 0.032433,
          "end_time": "2022-03-20T11:24:07.249594",
          "exception": false,
          "start_time": "2022-03-20T11:24:07.217161",
          "status": "completed"
        },
        "tags": [],
        "id": "6a7eee6c"
      },
      "outputs": [],
      "source": [
        "def potential(r,r_prime,Del):\n",
        "    # Electric potential at point r produced by\n",
        "    # 1 nC/m^2 charge on \\Del \\times \\Del square plate) at centered at point r_prime.\n",
        "    # The point charge approximation is used when r != r'.\n",
        "    # When r = r', the exact solutions is used.\n",
        "    # r is observation point (x,y)\n",
        "    # r' is source point (x',y')\n",
        "    # Del is side of each surface charge.\n",
        "    import numpy as np\n",
        "    import scipy.constants as const\n",
        "    k = 1/(4*const.pi*const.epsilon_0)\n",
        "    k = (1e-9)*k\n",
        "    if np.sqrt((r[0]-r_prime[0])**2+(r[1]-r_prime[1])**2) < 1e-6:\n",
        "        out = k*4*np.arcsinh(1)*Del\n",
        "    else:\n",
        "        out = k*Del*Del/(np.sqrt((r[0]-r_prime[0])**2+(r[1]-r_prime[1])**2))\n",
        "    return out"
      ]
    },
    {
      "cell_type": "code",
      "execution_count": null,
      "id": "ce25808c",
      "metadata": {
        "execution": {
          "iopub.execute_input": "2022-03-20T11:24:07.343680Z",
          "iopub.status.busy": "2022-03-20T11:24:07.342696Z",
          "iopub.status.idle": "2022-03-20T11:24:07.469480Z",
          "shell.execute_reply": "2022-03-20T11:24:07.468879Z",
          "shell.execute_reply.started": "2022-03-20T11:13:48.398820Z"
        },
        "id": "ce25808c",
        "papermill": {
          "duration": 0.152408,
          "end_time": "2022-03-20T11:24:07.469627",
          "exception": false,
          "start_time": "2022-03-20T11:24:07.317219",
          "status": "completed"
        },
        "tags": []
      },
      "outputs": [],
      "source": [
        "# Create points for r' (source points) and r (observation points)\n",
        "Del = 2/N\n",
        "x = Del*np.array(range(N))+Del/2-1\n",
        "y = Del*np.array(range(N))+Del/2-1\n",
        "xx,yy = np.meshgrid(x,y)\n",
        "rr = list(zip(list(xx.reshape(N*N)),list(yy.reshape(N*N))))\n",
        "# rr will be used for both source and observation points.\n",
        "\n"
      ]
    },
    {
      "cell_type": "code",
      "source": [
        "print('N = ',N)\n",
        "print('length of rr is ',len(rr),'= N X N')\n",
        "# rr is 1-d list N times N."
      ],
      "metadata": {
        "colab": {
          "base_uri": "https://localhost:8080/"
        },
        "id": "MKPdfBiuHZrF",
        "outputId": "b9577e1c-da44-4add-c22a-7d647d005cc0"
      },
      "id": "MKPdfBiuHZrF",
      "execution_count": null,
      "outputs": [
        {
          "output_type": "stream",
          "name": "stdout",
          "text": [
            "N =  4\n",
            "length of rr is  16 = N X N\n"
          ]
        }
      ]
    },
    {
      "cell_type": "code",
      "source": [
        "print('points 1 => 3')\n",
        "print(rr[:3])\n",
        "print('points N+1 => N+3')\n",
        "print(rr[N:N+3])\n",
        "print('points 2N+1 => 2N+3')\n",
        "print(rr[2*N:2*N+3])\n",
        "print('points ((N-1)*N)+1 => ((N-1)*N)*N+3')\n",
        "print(rr[(N-1)*N:(N-1)*N+3])"
      ],
      "metadata": {
        "colab": {
          "base_uri": "https://localhost:8080/"
        },
        "id": "jQOYPLaQH95F",
        "outputId": "838377dd-3e97-453f-d9c6-7993db667558"
      },
      "id": "jQOYPLaQH95F",
      "execution_count": null,
      "outputs": [
        {
          "output_type": "stream",
          "name": "stdout",
          "text": [
            "points 1 => 3\n",
            "[(-0.75, -0.75), (-0.25, -0.75), (0.25, -0.75)]\n",
            "points N+1 => N+3\n",
            "[(-0.75, -0.25), (-0.25, -0.25), (0.25, -0.25)]\n",
            "points 2N+1 => 2N+3\n",
            "[(-0.75, 0.25), (-0.25, 0.25), (0.25, 0.25)]\n",
            "points ((N-1)*N)+1 => ((N-1)*N)*N+3\n",
            "[(-0.75, 0.75), (-0.25, 0.75), (0.25, 0.75)]\n"
          ]
        }
      ]
    },
    {
      "cell_type": "code",
      "source": [
        "print('Convert 1-D to 2-D by using reshape.')\n",
        "print('Below show 5 X 5 block of the 2-D rr.')\n",
        "\n",
        "np.array(rr)[:,0].reshape(N,N)[:5,:5]\n"
      ],
      "metadata": {
        "colab": {
          "base_uri": "https://localhost:8080/"
        },
        "id": "LnidvmAZMQJ1",
        "outputId": "2cde0c40-9b2c-4241-f63c-1eb125823418"
      },
      "id": "LnidvmAZMQJ1",
      "execution_count": null,
      "outputs": [
        {
          "output_type": "stream",
          "name": "stdout",
          "text": [
            "Convert 1-D to 2-D by using reshape.\n",
            "Below show 5 X 5 block of the 2-D rr.\n"
          ]
        },
        {
          "output_type": "execute_result",
          "data": {
            "text/plain": [
              "array([[-0.75, -0.25,  0.25,  0.75],\n",
              "       [-0.75, -0.25,  0.25,  0.75],\n",
              "       [-0.75, -0.25,  0.25,  0.75],\n",
              "       [-0.75, -0.25,  0.25,  0.75]])"
            ]
          },
          "metadata": {},
          "execution_count": 6
        }
      ]
    },
    {
      "cell_type": "markdown",
      "source": [
        "<img src=\"https://github.com/githubdcw/electromagnetics-X/raw/main/kaggle/01205217.2021.2/test_points.png\"  width=\"50%\" height=\"50%\">"
      ],
      "metadata": {
        "id": "6VI6DjNn0O6-"
      },
      "id": "6VI6DjNn0O6-"
    },
    {
      "cell_type": "markdown",
      "source": [
        "$V_1 = V_{1,1}+V_{2,1}+V_{3,1}+V_{4,1}...V_{N\\times N,1} = 10$  \n",
        "$V_2 = V_{1,2}+V_{2,2}+V_{3,2}+V_{4,2}...V_{N\\times N,2} = 10$  \n",
        "...  \n",
        "$V_{N \\times N} = V_{1,N \\times N}+V_{2,N \\times N}+V_{3,N \\times N}+V_{4,N \\times N}...V_{N\\times N,N \\times N} = 10$  \n",
        "where  \n",
        "$V_{i,j} = \\rho_{s_i} \\times $ potential($\\mathbf r_i,\\mathbf r_j$)  \n",
        "The unit of $\\rho_s$ is nC/m^2.     \n",
        "Below we solve the euqations with Matrix  \n",
        "where the element $i,j$ of the matrix A = $a_{i,j} =$ potential($\\mathbf r_i,\\mathbf r_j$)"
      ],
      "metadata": {
        "id": "6B_wePJOwtSI"
      },
      "id": "6B_wePJOwtSI"
    },
    {
      "cell_type": "markdown",
      "source": [
        "# Solve for the surface charge  \n",
        "Write your code to construct equations as a matrix to solve for the surface charge for each square.  \n",
        "$\\mathbf{A}[\\rho_{s_j}]=[V_i] = [10,10,10,....]^T$  \n",
        "$a_{ij}$ is a potential at point $i$ produced by surface charge at point $j$.  \n",
        "$a_{ij}$ = potential($r_i$,$r_j$,Del)  \n",
        "$[\\rho_{s_j}] = A^{-1} [V_i]$  \n",
        "The unit of $\\rho_s$ is nC/m^2.     \n",
        "\n"
      ],
      "metadata": {
        "id": "g6s0M1-01q82"
      },
      "id": "g6s0M1-01q82"
    },
    {
      "cell_type": "code",
      "source": [
        "A = np.random.rand(N*N,N*N)\n",
        "for ii in range(N*N):\n",
        "  for jj in range(N*N):\n",
        "    if ii==0 and jj == 0:\n",
        "      print('write a code to create the matrix A.')\n",
        "    # Write your code here\n",
        "\n",
        "V = 10*np.ones(N*N)\n",
        "rho = np.linalg.inv(A)@V\n",
        "print('the first 5 elements of rho:')\n",
        "print(rho[:5])\n"
      ],
      "metadata": {
        "id": "gW231LJOyIQG",
        "colab": {
          "base_uri": "https://localhost:8080/"
        },
        "outputId": "0eef61ba-8e70-468f-8d5d-56367d3cc0c6"
      },
      "id": "gW231LJOyIQG",
      "execution_count": null,
      "outputs": [
        {
          "output_type": "stream",
          "name": "stdout",
          "text": [
            "write a code to create the matrix A.\n",
            "the first 5 elements of rho:\n",
            "[-55.04683726  71.6245311  -56.25798005  75.41923576 -46.79003953]\n"
          ]
        }
      ]
    },
    {
      "cell_type": "markdown",
      "id": "4d09eed1",
      "metadata": {
        "papermill": {
          "duration": 0.024018,
          "end_time": "2022-03-20T11:44:43.675616",
          "exception": false,
          "start_time": "2022-03-20T11:44:43.651598",
          "status": "completed"
        },
        "tags": [],
        "id": "4d09eed1"
      },
      "source": [
        "# Total Charge and Capacitance  \n",
        "Write your code to compute the total charge on the plate and the capacitance of the plate.  "
      ]
    },
    {
      "cell_type": "code",
      "execution_count": null,
      "id": "03503a59",
      "metadata": {
        "execution": {
          "iopub.execute_input": "2022-03-20T11:44:43.729903Z",
          "iopub.status.busy": "2022-03-20T11:44:43.728724Z",
          "iopub.status.idle": "2022-03-20T11:44:43.735403Z",
          "shell.execute_reply": "2022-03-20T11:44:43.735993Z",
          "shell.execute_reply.started": "2022-03-20T11:16:30.486148Z"
        },
        "papermill": {
          "duration": 0.036298,
          "end_time": "2022-03-20T11:44:43.736206",
          "exception": false,
          "start_time": "2022-03-20T11:44:43.699908",
          "status": "completed"
        },
        "tags": [],
        "id": "03503a59",
        "outputId": "3f4e3e0f-bf89-4b76-b27b-f5fc629feef8",
        "colab": {
          "base_uri": "https://localhost:8080/"
        }
      },
      "outputs": [
        {
          "output_type": "stream",
          "name": "stdout",
          "text": [
            "Total charge on the plate is  WRITE YOUR CODE HERE  C\n",
            "Capacitance is  WRITE YOUR CODE HERE  F\n"
          ]
        }
      ],
      "source": [
        "print('Total charge on the plate is ',\"WRITE YOUR CODE HERE\",' C')\n",
        "print('Capacitance is ',\"WRITE YOUR CODE HERE\",' F')"
      ]
    },
    {
      "cell_type": "markdown",
      "source": [
        "# Plot of the surface charge density    \n",
        "Plot the computed charge density.  \n",
        "It should look like the image below.   \n",
        "<img src=\"https://github.com/githubdcw/electromagnetics-X/raw/main/kaggle/01205217.2021.2/rhos_plot.jpg\"  width=\"20%\" height=\"20%\">"
      ],
      "metadata": {
        "id": "D1NpOHO0y27e"
      },
      "id": "D1NpOHO0y27e"
    },
    {
      "cell_type": "code",
      "source": [
        "import matplotlib.pyplot as plt\n",
        "fig = plt.figure()\n",
        "# Write your code here\n",
        "plt.show()"
      ],
      "metadata": {
        "colab": {
          "base_uri": "https://localhost:8080/",
          "height": 34
        },
        "id": "dXZ0ikBiy6ml",
        "outputId": "91d45827-df5c-4d24-d0ee-c7bc9e3b8fc0"
      },
      "id": "dXZ0ikBiy6ml",
      "execution_count": null,
      "outputs": [
        {
          "output_type": "display_data",
          "data": {
            "text/plain": [
              "<Figure size 640x480 with 0 Axes>"
            ]
          },
          "metadata": {}
        }
      ]
    }
  ],
  "metadata": {
    "kernelspec": {
      "display_name": "Python 3",
      "language": "python",
      "name": "python3"
    },
    "language_info": {
      "codemirror_mode": {
        "name": "ipython",
        "version": 3
      },
      "file_extension": ".py",
      "mimetype": "text/x-python",
      "name": "python",
      "nbconvert_exporter": "python",
      "pygments_lexer": "ipython3",
      "version": "3.7.12"
    },
    "papermill": {
      "default_parameters": {},
      "duration": 1250.458245,
      "end_time": "2022-03-20T11:44:47.141656",
      "environment_variables": {},
      "exception": null,
      "input_path": "__notebook__.ipynb",
      "output_path": "__notebook__.ipynb",
      "parameters": {},
      "start_time": "2022-03-20T11:23:56.683411",
      "version": "2.3.3"
    },
    "colab": {
      "provenance": []
    }
  },
  "nbformat": 4,
  "nbformat_minor": 5
}